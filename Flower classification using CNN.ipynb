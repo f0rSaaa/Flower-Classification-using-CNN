{
 "cells": [
  {
   "cell_type": "markdown",
   "id": "faff81f9",
   "metadata": {},
   "source": [
    "### Importing required libraries"
   ]
  },
  {
   "cell_type": "code",
   "execution_count": 1,
   "id": "2ab9b05e",
   "metadata": {},
   "outputs": [],
   "source": [
    "import os\n",
    "import cv2\n",
    "import numpy as np\n",
    "from tqdm import tqdm\n",
    "import matplotlib.pyplot as plt\n",
    "import torch\n",
    "import torch.nn as nn\n",
    "import torch.nn.functional as F\n",
    "from sklearn.metrics import multilabel_confusion_matrix\n",
    "import seaborn as sns\n",
    "from sklearn.metrics import roc_curve"
   ]
  },
  {
   "cell_type": "markdown",
   "id": "2452df85",
   "metadata": {},
   "source": [
    "### Creating Dataset "
   ]
  },
  {
   "cell_type": "code",
   "execution_count": 2,
   "id": "1b52d73d",
   "metadata": {},
   "outputs": [],
   "source": [
    "REBUILD_DATA = False"
   ]
  },
  {
   "cell_type": "code",
   "execution_count": 3,
   "id": "403699ac",
   "metadata": {},
   "outputs": [],
   "source": [
    "class Flowers():\n",
    "    IMG_SIZE = 50 #making all images to a common size here it is 50\n",
    "    ASTIBLE = \"flowers/astilbe\"\n",
    "    BELLFLOWER = \"flowers/bellflower\"\n",
    "    BLACK_EYED_SUSAN = \"flowers/black-eyed susan\"\n",
    "    CALENDULA = \"flowers/calendula\"\n",
    "    CALIFORNIA_POPPY = \"flowers/california poppy\"\n",
    "    CARNATION = \"flowers/carnation\"\n",
    "    COMMON_DAISY = \"flowers/common daisy\"\n",
    "    COREOPSIS = \"flowers/coreopsis\"\n",
    "    DANDELION = \"flowers/dandelion\"\n",
    "    IRIS = \"flowers/iris\"\n",
    "    ROSE = \"flowers/rose\"\n",
    "    SUNFLOWER = \"flowers/sunflower\"\n",
    "    TULIP = \"flowers/tulip\"\n",
    "\n",
    "    LABELS = {ASTIBLE:0,\n",
    "              BELLFLOWER:1,\n",
    "              BLACK_EYED_SUSAN:2,\n",
    "              CALENDULA:3,\n",
    "              CALIFORNIA_POPPY:4,\n",
    "              CARNATION:5,\n",
    "              COMMON_DAISY:6,\n",
    "              COREOPSIS:7,\n",
    "              DANDELION:8,\n",
    "              IRIS:9,\n",
    "              ROSE:10,\n",
    "              SUNFLOWER:11,\n",
    "              TULIP:12}\n",
    "    \n",
    "    training_data = []\n",
    "    astible_count = 0;\n",
    "    bellflower_count = 0;\n",
    "    black_eyed_susan_count = 0;\n",
    "    calendula_count = 0;\n",
    "    california_poppy_count = 0;\n",
    "    carnation_count = 0;\n",
    "    common_daisy_count = 0;\n",
    "    coreoposis_count = 0;\n",
    "    dandelion_count = 0;\n",
    "    iris_count = 0;\n",
    "    rose_count = 0;\n",
    "    sunflower_count = 0;\n",
    "    tulip_count = 0;\n",
    "    \n",
    "    def make_training_data(self):\n",
    "        for label in self.LABELS:  #labels is dict and the keys in that are directories\n",
    "            print(label)\n",
    "            for f in tqdm(os.listdir(label)):\n",
    "                try:\n",
    "                    path = os.path.join(label, f)\n",
    "                    img = cv2.imread(path, cv2.IMREAD_GRAYSCALE)\n",
    "                    img = cv2.resize(img, (self.IMG_SIZE, self.IMG_SIZE))\n",
    "                    self.training_data.append([np.array(img),np.eye(13)[self.LABELS[label]]])\n",
    "\n",
    "                    if label == self.ASTIBLE :\n",
    "                        self.astible_count  += 1\n",
    "                    elif label == self.BELLFLOWER :\n",
    "                        self.bellflower_count  += 1\n",
    "                    elif label == self.BLACK_EYED_SUSAN :\n",
    "                        self.black_eyed_susan_count  += 1\n",
    "                    elif label == self.CALENDULA :\n",
    "                        self.calendula_count  += 1\n",
    "                    elif label == self.CALIFORNIA_POPPY :\n",
    "                        self.california_poppy_count  += 1\n",
    "                    elif label == self.CARNATION :\n",
    "                        self.carnation_count  += 1\n",
    "                    elif label == self.COMMON_DAISY :\n",
    "                        self.common_daisy_count  += 1\n",
    "                    elif label == self.COREOPSIS :\n",
    "                        self.coreoposis_count  += 1\n",
    "                    elif label == self.DANDELION :\n",
    "                        self.dandelion_count  += 1\n",
    "                    elif label == self.IRIS :\n",
    "                        self.iris_count  += 1\n",
    "                    elif label == self.ROSE :\n",
    "                        self.rose_count  += 1\n",
    "                    elif label == self.SUNFLOWER :\n",
    "                        self.sunflower_count  += 1\n",
    "                    elif label == self.TULIP  :\n",
    "                        self.tulip_count  += 1\n",
    "                \n",
    "                except Exception as e:\n",
    "                    pass\n",
    "#                     print(str(e))\n",
    "        \n",
    "        np.random.shuffle(self.training_data)\n",
    "        np.save(\"training_data.npy\", self.training_data)\n",
    "        print(\"astible: \", self.astible_count )\n",
    "        print(\"bellflower: \", self.bellflower_count )\n",
    "        print(\"vlack_eyed_susan: \", self.black_eyed_susan_count )\n",
    "        print(\"calendula: \", self.calendula_count )\n",
    "        print(\"california_poppy: \", self.california_poppy_count )\n",
    "        print(\"carnation: \", self.carnation_count )\n",
    "        print(\"common_daisy: \", self.common_daisy_count )\n",
    "        print(\"coreoposis: \", self.coreoposis_count )\n",
    "        print(\"dandelion: \", self.dandelion_count )\n",
    "        print(\"iris: \", self.iris_count )\n",
    "        print(\"rose: \", self.rose_count )\n",
    "        print(\"sunflower: \", self.sunflower_count )\n",
    "        print(\"tulip: \", self.tulip_count )\n",
    "\n",
    "\n",
    "\n",
    "if REBUILD_DATA:\n",
    "    flowers = Flowers();\n",
    "    flowers.make_training_data()"
   ]
  },
  {
   "cell_type": "code",
   "execution_count": 4,
   "id": "7fe2a7dd",
   "metadata": {},
   "outputs": [],
   "source": [
    "training_data = np.load(\"training_data.npy\", allow_pickle = True)"
   ]
  },
  {
   "cell_type": "code",
   "execution_count": 5,
   "id": "0827d44c",
   "metadata": {},
   "outputs": [
    {
     "name": "stdout",
     "output_type": "stream",
     "text": [
      "12847\n"
     ]
    }
   ],
   "source": [
    "print(len(training_data))"
   ]
  },
  {
   "cell_type": "code",
   "execution_count": 6,
   "id": "6e1664fd",
   "metadata": {},
   "outputs": [
    {
     "name": "stdout",
     "output_type": "stream",
     "text": [
      "[0. 0. 0. 0. 0. 1. 0. 0. 0. 0. 0. 0. 0.]\n"
     ]
    }
   ],
   "source": [
    "print(training_data[0][1])"
   ]
  },
  {
   "cell_type": "markdown",
   "id": "7ab30d41",
   "metadata": {},
   "source": [
    "Sample flower image and and it's label"
   ]
  },
  {
   "cell_type": "code",
   "execution_count": 7,
   "id": "a0944850",
   "metadata": {},
   "outputs": [
    {
     "data": {
      "image/png": "[encoded data removed]",
      "text/plain": [
       "<Figure size 432x288 with 1 Axes>"
      ]
     },
     "metadata": {
      "needs_background": "light"
     },
     "output_type": "display_data"
    },
    {
     "name": "stdout",
     "output_type": "stream",
     "text": [
      "[0. 0. 0. 0. 0. 1. 0. 0. 0. 0. 0. 0. 0.]\n"
     ]
    }
   ],
   "source": [
    "plt.imshow(training_data[0][0],cmap = \"gray\")\n",
    "plt.show()\n",
    "print(training_data[0][1])"
   ]
  },
  {
   "cell_type": "code",
   "execution_count": 8,
   "id": "f662259e",
   "metadata": {
    "scrolled": true
   },
   "outputs": [
    {
     "data": {
      "image/png": "[encoded data removed]",
      "text/plain": [
       "<Figure size 432x288 with 1 Axes>"
      ]
     },
     "metadata": {
      "needs_background": "light"
     },
     "output_type": "display_data"
    },
    {
     "name": "stdout",
     "output_type": "stream",
     "text": [
      "[0. 0. 0. 0. 1. 0. 0. 0. 0. 0. 0. 0. 0.]\n"
     ]
    }
   ],
   "source": [
    "plt.imshow(training_data[1][0],cmap = \"gray\")\n",
    "plt.show()\n",
    "print(training_data[1][1])"
   ]
  },
  {
   "cell_type": "markdown",
   "id": "e28e21e7",
   "metadata": {},
   "source": [
    "### Buidling the Neural Network model"
   ]
  },
  {
   "cell_type": "code",
   "execution_count": 9,
   "id": "ca8b9a19",
   "metadata": {},
   "outputs": [],
   "source": [
    "class Net(nn.Module):\n",
    "    def __init__(self):\n",
    "        super().__init__()\n",
    "        self.conv1 = nn.Conv2d(1,32,5) #input output kernel(window) size\n",
    "        self.conv2 = nn.Conv2d(32,64,5)\n",
    "        self.conv3 = nn.Conv2d(64,128,5)\n",
    "        \n",
    "        x = torch.randn(50,50).view(-1,1,50,50)\n",
    "        self._to_linear = None\n",
    "        self.convs(x);\n",
    "        \n",
    "        self.fc1 = nn.Linear(self._to_linear, 512)\n",
    "        self.fc2 = nn.Linear(512,13)\n",
    "        \n",
    "    def convs(self, x):\n",
    "        x = F.max_pool2d(F.relu(self.conv1(x)),(2,2)) #(2,2) shape of pooling\n",
    "        x = F.max_pool2d(F.relu(self.conv2(x)),(2,2))\n",
    "        x = F.max_pool2d(F.relu(self.conv3(x)),(2,2))\n",
    "    \n",
    "#         print(x[0].shape)\n",
    "        \n",
    "        if self._to_linear is None:\n",
    "            self._to_linear = x[0].shape[0]*x[0].shape[1]*x[0].shape[2]\n",
    "        return x \n",
    "    \n",
    "    def forward(self,x): \n",
    "#         print(self._to_linear)\n",
    "        x = self.convs(x) #pass through all the convo layer\n",
    "        x = x.view(-1, self._to_linear)  #flatten\n",
    "        x = F.relu(self.fc1(x))\n",
    "        x = self.fc2(x)\n",
    "        return F.softmax(x,dim = 1)\n",
    "        \n",
    "net = Net()"
   ]
  },
  {
   "cell_type": "code",
   "execution_count": 10,
   "id": "ec81fe8f",
   "metadata": {},
   "outputs": [],
   "source": [
    "import torch.optim as optim\n",
    "optimizer =  optim.Adam(net.parameters(), lr=0.001)\n",
    "loss_funtion = nn.MSELoss()"
   ]
  },
  {
   "cell_type": "code",
   "execution_count": 11,
   "id": "028abb49",
   "metadata": {
    "scrolled": true
   },
   "outputs": [
    {
     "name": "stderr",
     "output_type": "stream",
     "text": [
      "C:\\Users\\sagar\\AppData\\Local\\Temp/ipykernel_22068/199161659.py:1: UserWarning: Creating a tensor from a list of numpy.ndarrays is extremely slow. Please consider converting the list to a single numpy.ndarray with numpy.array() before converting to a tensor. (Triggered internally at  ..\\torch\\csrc\\utils\\tensor_new.cpp:201.)\n",
      "  X = torch.Tensor([i[0] for i in training_data]).view(-1,50,50)\n"
     ]
    }
   ],
   "source": [
    "X = torch.Tensor([i[0] for i in training_data]).view(-1,50,50)\n",
    "X = X/255.0 #converting values in the range of 0-1\n",
    "y = torch.Tensor([i[1] for i in training_data])\n"
   ]
  },
  {
   "cell_type": "code",
   "execution_count": 12,
   "id": "b6edbf17",
   "metadata": {},
   "outputs": [
    {
     "data": {
      "text/plain": [
       "tensor([0.4157, 0.2627, 0.2078, 0.1647, 0.2235, 0.2510, 0.2118, 0.1961, 0.1804,\n",
       "        0.1804, 0.1569, 0.1098, 0.1451, 0.1490, 0.5137, 0.4667, 0.5451, 0.6118,\n",
       "        0.4980, 0.5373, 0.5569, 0.5216, 0.4824, 0.6078, 0.4118, 0.4510, 0.5255,\n",
       "        0.6000, 0.6039, 0.6118, 0.5412, 0.2902, 0.1216, 0.1098, 0.1059, 0.1059,\n",
       "        0.0980, 0.1098, 0.1059, 0.1098, 0.1098, 0.1176, 0.1098, 0.1098, 0.1137,\n",
       "        0.1255, 0.1255, 0.1333, 0.1412, 0.1451])"
      ]
     },
     "execution_count": 12,
     "metadata": {},
     "output_type": "execute_result"
    }
   ],
   "source": [
    "X[0][1]"
   ]
  },
  {
   "cell_type": "code",
   "execution_count": 13,
   "id": "6e2651a1",
   "metadata": {},
   "outputs": [
    {
     "name": "stdout",
     "output_type": "stream",
     "text": [
      "2569\n"
     ]
    }
   ],
   "source": [
    "VAL_PCT = 0.2\n",
    "val_size = int(len(X)*VAL_PCT)\n",
    "print(val_size)"
   ]
  },
  {
   "cell_type": "code",
   "execution_count": 14,
   "id": "83db469c",
   "metadata": {},
   "outputs": [],
   "source": [
    "train_X = X[:-val_size]\n",
    "train_y = y[:-val_size]\n",
    "\n",
    "test_X = X[-val_size:]\n",
    "test_y = y[-val_size:]"
   ]
  },
  {
   "cell_type": "code",
   "execution_count": 15,
   "id": "66aa1c44",
   "metadata": {},
   "outputs": [
    {
     "name": "stdout",
     "output_type": "stream",
     "text": [
      "10278\n",
      "10278\n"
     ]
    }
   ],
   "source": [
    "print(len(train_X))\n",
    "print(len(train_y))"
   ]
  },
  {
   "cell_type": "code",
   "execution_count": 16,
   "id": "244b9e79",
   "metadata": {},
   "outputs": [
    {
     "name": "stdout",
     "output_type": "stream",
     "text": [
      "2569\n",
      "2569\n"
     ]
    }
   ],
   "source": [
    "print(len(test_X))\n",
    "print(len(test_y))"
   ]
  },
  {
   "cell_type": "code",
   "execution_count": 17,
   "id": "76bcb5a6",
   "metadata": {
    "scrolled": false
   },
   "outputs": [
    {
     "name": "stderr",
     "output_type": "stream",
     "text": [
      "100%|██████████| 103/103 [00:22<00:00,  4.49it/s]\n"
     ]
    },
    {
     "name": "stdout",
     "output_type": "stream",
     "text": [
      "tensor(0.0664, grad_fn=<MseLossBackward0>)\n"
     ]
    },
    {
     "name": "stderr",
     "output_type": "stream",
     "text": [
      "100%|██████████| 103/103 [00:25<00:00,  3.98it/s]\n"
     ]
    },
    {
     "name": "stdout",
     "output_type": "stream",
     "text": [
      "tensor(0.0618, grad_fn=<MseLossBackward0>)\n"
     ]
    },
    {
     "name": "stderr",
     "output_type": "stream",
     "text": [
      "100%|██████████| 103/103 [00:22<00:00,  4.53it/s]\n"
     ]
    },
    {
     "name": "stdout",
     "output_type": "stream",
     "text": [
      "tensor(0.0572, grad_fn=<MseLossBackward0>)\n"
     ]
    },
    {
     "name": "stderr",
     "output_type": "stream",
     "text": [
      "100%|██████████| 103/103 [00:21<00:00,  4.78it/s]\n"
     ]
    },
    {
     "name": "stdout",
     "output_type": "stream",
     "text": [
      "tensor(0.0544, grad_fn=<MseLossBackward0>)\n"
     ]
    },
    {
     "name": "stderr",
     "output_type": "stream",
     "text": [
      "100%|██████████| 103/103 [00:22<00:00,  4.48it/s]\n"
     ]
    },
    {
     "name": "stdout",
     "output_type": "stream",
     "text": [
      "tensor(0.0501, grad_fn=<MseLossBackward0>)\n"
     ]
    },
    {
     "name": "stderr",
     "output_type": "stream",
     "text": [
      "100%|██████████| 103/103 [00:21<00:00,  4.77it/s]\n"
     ]
    },
    {
     "name": "stdout",
     "output_type": "stream",
     "text": [
      "tensor(0.0479, grad_fn=<MseLossBackward0>)\n"
     ]
    },
    {
     "name": "stderr",
     "output_type": "stream",
     "text": [
      "100%|██████████| 103/103 [00:22<00:00,  4.55it/s]\n"
     ]
    },
    {
     "name": "stdout",
     "output_type": "stream",
     "text": [
      "tensor(0.0430, grad_fn=<MseLossBackward0>)\n"
     ]
    },
    {
     "name": "stderr",
     "output_type": "stream",
     "text": [
      "100%|██████████| 103/103 [00:27<00:00,  3.78it/s]\n"
     ]
    },
    {
     "name": "stdout",
     "output_type": "stream",
     "text": [
      "tensor(0.0452, grad_fn=<MseLossBackward0>)\n"
     ]
    },
    {
     "name": "stderr",
     "output_type": "stream",
     "text": [
      "100%|██████████| 103/103 [00:22<00:00,  4.68it/s]\n"
     ]
    },
    {
     "name": "stdout",
     "output_type": "stream",
     "text": [
      "tensor(0.0421, grad_fn=<MseLossBackward0>)\n"
     ]
    },
    {
     "name": "stderr",
     "output_type": "stream",
     "text": [
      "100%|██████████| 103/103 [00:22<00:00,  4.63it/s]\n"
     ]
    },
    {
     "name": "stdout",
     "output_type": "stream",
     "text": [
      "tensor(0.0393, grad_fn=<MseLossBackward0>)\n"
     ]
    },
    {
     "name": "stderr",
     "output_type": "stream",
     "text": [
      "100%|██████████| 103/103 [00:21<00:00,  4.68it/s]\n"
     ]
    },
    {
     "name": "stdout",
     "output_type": "stream",
     "text": [
      "tensor(0.0375, grad_fn=<MseLossBackward0>)\n"
     ]
    },
    {
     "name": "stderr",
     "output_type": "stream",
     "text": [
      "100%|██████████| 103/103 [00:21<00:00,  4.68it/s]\n"
     ]
    },
    {
     "name": "stdout",
     "output_type": "stream",
     "text": [
      "tensor(0.0369, grad_fn=<MseLossBackward0>)\n"
     ]
    },
    {
     "name": "stderr",
     "output_type": "stream",
     "text": [
      "100%|██████████| 103/103 [00:22<00:00,  4.52it/s]\n"
     ]
    },
    {
     "name": "stdout",
     "output_type": "stream",
     "text": [
      "tensor(0.0376, grad_fn=<MseLossBackward0>)\n"
     ]
    },
    {
     "name": "stderr",
     "output_type": "stream",
     "text": [
      "100%|██████████| 103/103 [00:22<00:00,  4.54it/s]\n"
     ]
    },
    {
     "name": "stdout",
     "output_type": "stream",
     "text": [
      "tensor(0.0361, grad_fn=<MseLossBackward0>)\n"
     ]
    },
    {
     "name": "stderr",
     "output_type": "stream",
     "text": [
      "100%|██████████| 103/103 [00:22<00:00,  4.64it/s]\n"
     ]
    },
    {
     "name": "stdout",
     "output_type": "stream",
     "text": [
      "tensor(0.0361, grad_fn=<MseLossBackward0>)\n"
     ]
    },
    {
     "name": "stderr",
     "output_type": "stream",
     "text": [
      "100%|██████████| 103/103 [00:22<00:00,  4.64it/s]\n"
     ]
    },
    {
     "name": "stdout",
     "output_type": "stream",
     "text": [
      "tensor(0.0316, grad_fn=<MseLossBackward0>)\n"
     ]
    },
    {
     "name": "stderr",
     "output_type": "stream",
     "text": [
      "100%|██████████| 103/103 [00:22<00:00,  4.67it/s]\n"
     ]
    },
    {
     "name": "stdout",
     "output_type": "stream",
     "text": [
      "tensor(0.0364, grad_fn=<MseLossBackward0>)\n"
     ]
    },
    {
     "name": "stderr",
     "output_type": "stream",
     "text": [
      "100%|██████████| 103/103 [00:22<00:00,  4.64it/s]\n"
     ]
    },
    {
     "name": "stdout",
     "output_type": "stream",
     "text": [
      "tensor(0.0287, grad_fn=<MseLossBackward0>)\n"
     ]
    },
    {
     "name": "stderr",
     "output_type": "stream",
     "text": [
      "100%|██████████| 103/103 [00:22<00:00,  4.51it/s]\n"
     ]
    },
    {
     "name": "stdout",
     "output_type": "stream",
     "text": [
      "tensor(0.0294, grad_fn=<MseLossBackward0>)\n"
     ]
    },
    {
     "name": "stderr",
     "output_type": "stream",
     "text": [
      "100%|██████████| 103/103 [00:21<00:00,  4.69it/s]"
     ]
    },
    {
     "name": "stdout",
     "output_type": "stream",
     "text": [
      "tensor(0.0256, grad_fn=<MseLossBackward0>)\n"
     ]
    },
    {
     "name": "stderr",
     "output_type": "stream",
     "text": [
      "\n"
     ]
    }
   ],
   "source": [
    "BATCH_SIZE = 100\n",
    "EPOCHS = 20\n",
    "l = []\n",
    "for epoch in range(EPOCHS):\n",
    "    for i in tqdm(range(0, len(train_X), BATCH_SIZE)):\n",
    "#         print(i, i+BATCH_SIZE)\n",
    "        batch_X = train_X[i:i+BATCH_SIZE].view(-1,1,50,50)\n",
    "        batch_y = train_y[i:i+BATCH_SIZE]\n",
    "        \n",
    "        net.zero_grad()\n",
    "        outputs = net(batch_X)\n",
    "        loss = loss_funtion(outputs, batch_y)\n",
    "        loss.backward()\n",
    "        optimizer.step()\n",
    "        \n",
    "    l.append(loss)  \n",
    "    print(loss)\n"
   ]
  },
  {
   "cell_type": "code",
   "execution_count": 18,
   "id": "3efb397b",
   "metadata": {},
   "outputs": [
    {
     "data": {
      "text/plain": [
       "[tensor(0.0664, grad_fn=<MseLossBackward0>),\n",
       " tensor(0.0618, grad_fn=<MseLossBackward0>),\n",
       " tensor(0.0572, grad_fn=<MseLossBackward0>),\n",
       " tensor(0.0544, grad_fn=<MseLossBackward0>),\n",
       " tensor(0.0501, grad_fn=<MseLossBackward0>),\n",
       " tensor(0.0479, grad_fn=<MseLossBackward0>),\n",
       " tensor(0.0430, grad_fn=<MseLossBackward0>),\n",
       " tensor(0.0452, grad_fn=<MseLossBackward0>),\n",
       " tensor(0.0421, grad_fn=<MseLossBackward0>),\n",
       " tensor(0.0393, grad_fn=<MseLossBackward0>),\n",
       " tensor(0.0375, grad_fn=<MseLossBackward0>),\n",
       " tensor(0.0369, grad_fn=<MseLossBackward0>),\n",
       " tensor(0.0376, grad_fn=<MseLossBackward0>),\n",
       " tensor(0.0361, grad_fn=<MseLossBackward0>),\n",
       " tensor(0.0361, grad_fn=<MseLossBackward0>),\n",
       " tensor(0.0316, grad_fn=<MseLossBackward0>),\n",
       " tensor(0.0364, grad_fn=<MseLossBackward0>),\n",
       " tensor(0.0287, grad_fn=<MseLossBackward0>),\n",
       " tensor(0.0294, grad_fn=<MseLossBackward0>),\n",
       " tensor(0.0256, grad_fn=<MseLossBackward0>)]"
      ]
     },
     "execution_count": 18,
     "metadata": {},
     "output_type": "execute_result"
    }
   ],
   "source": [
    "l"
   ]
  },
  {
   "cell_type": "code",
   "execution_count": 19,
   "id": "283fe7dc",
   "metadata": {
    "scrolled": true
   },
   "outputs": [
    {
     "data": {
      "text/plain": [
       "[0.066434845328331,\n",
       " 0.06181342899799347,\n",
       " 0.05717094987630844,\n",
       " 0.05440849810838699,\n",
       " 0.05011361464858055,\n",
       " 0.04791644588112831,\n",
       " 0.042976200580596924,\n",
       " 0.045214761048555374,\n",
       " 0.04208185151219368,\n",
       " 0.039255790412425995,\n",
       " 0.03747861459851265,\n",
       " 0.036875270307064056,\n",
       " 0.03764946013689041,\n",
       " 0.03610672801733017,\n",
       " 0.03612667694687843,\n",
       " 0.03157510608434677,\n",
       " 0.03637870028614998,\n",
       " 0.028708022087812424,\n",
       " 0.02935303933918476,\n",
       " 0.025562850758433342]"
      ]
     },
     "execution_count": 19,
     "metadata": {},
     "output_type": "execute_result"
    }
   ],
   "source": [
    "loss = []\n",
    "for i in range(EPOCHS):\n",
    "    temp = l[i].tolist()\n",
    "    loss.append(temp)\n",
    "loss"
   ]
  },
  {
   "cell_type": "markdown",
   "id": "716287f7",
   "metadata": {},
   "source": [
    "### Loss Curves"
   ]
  },
  {
   "cell_type": "code",
   "execution_count": 20,
   "id": "c1f73457",
   "metadata": {
    "scrolled": false
   },
   "outputs": [
    {
     "data": {
      "image/png": "[encoded data removed]",
      "text/plain": [
       "<Figure size 1080x432 with 1 Axes>"
      ]
     },
     "metadata": {},
     "output_type": "display_data"
    }
   ],
   "source": [
    "sns.set_style(\"darkgrid\")\n",
    "plt.figure(figsize = (15, 6))\n",
    "sns.lineplot(data = loss)\n",
    "plt.show()"
   ]
  },
  {
   "cell_type": "markdown",
   "id": "c64b3477",
   "metadata": {},
   "source": [
    "## Training Results  "
   ]
  },
  {
   "cell_type": "code",
   "execution_count": 21,
   "id": "5092e97a",
   "metadata": {},
   "outputs": [
    {
     "name": "stderr",
     "output_type": "stream",
     "text": [
      "100%|██████████| 10278/10278 [00:10<00:00, 1009.30it/s]"
     ]
    },
    {
     "name": "stdout",
     "output_type": "stream",
     "text": [
      "Accuracy:  0.718\n"
     ]
    },
    {
     "name": "stderr",
     "output_type": "stream",
     "text": [
      "\n"
     ]
    }
   ],
   "source": [
    "correct = 0;\n",
    "total = 0;\n",
    "\n",
    "true_class = []\n",
    "pred_class = []\n",
    "\n",
    "with torch.no_grad():\n",
    "    for i in tqdm(range(len(train_X))):\n",
    "        real_class = torch.argmax(train_y[i])\n",
    "        true_class.append(real_class)\n",
    "        net_out = net(train_X[i].view(-1,1,50,50))[0]\n",
    "        predicted_class = torch.argmax(net_out)\n",
    "        pred_class.append(predicted_class)\n",
    "        if predicted_class == real_class:\n",
    "            correct += 1\n",
    "        total += 1\n",
    "        \n",
    "print(\"Accuracy: \", round(correct/total , 3))"
   ]
  },
  {
   "cell_type": "code",
   "execution_count": 22,
   "id": "edb09c79",
   "metadata": {
    "scrolled": false
   },
   "outputs": [],
   "source": [
    "arr = multilabel_confusion_matrix(true_class, pred_class)"
   ]
  },
  {
   "cell_type": "code",
   "execution_count": 23,
   "id": "45d96250",
   "metadata": {},
   "outputs": [],
   "source": [
    "tn = arr[:, 0, 0]\n",
    "tp = arr[:, 1, 1]\n",
    "fn = arr[:, 1, 0]\n",
    "fp = arr[:, 0, 1]"
   ]
  },
  {
   "cell_type": "markdown",
   "id": "9df52c49",
   "metadata": {},
   "source": [
    "### Accuracy score"
   ]
  },
  {
   "cell_type": "code",
   "execution_count": 24,
   "id": "c5f5810d",
   "metadata": {},
   "outputs": [
    {
     "data": {
      "text/plain": [
       "array([0.95397937, 0.94424985, 0.97927612, 0.93500681, 0.94288772,\n",
       "       0.94580658, 0.94833625, 0.96088733, 0.96409807, 0.97100603,\n",
       "       0.95602257, 0.96944931, 0.96507103])"
      ]
     },
     "execution_count": 24,
     "metadata": {},
     "output_type": "execute_result"
    }
   ],
   "source": [
    "acc = (tp+tn)/(tp+tn+fp+fn)\n",
    "acc"
   ]
  },
  {
   "cell_type": "markdown",
   "id": "8553e549",
   "metadata": {},
   "source": [
    "###  Recall "
   ]
  },
  {
   "cell_type": "code",
   "execution_count": 25,
   "id": "71c5f630",
   "metadata": {},
   "outputs": [
    {
     "data": {
      "text/plain": [
       "array([0.73539519, 0.61626248, 0.90761548, 0.58527607, 0.70060606,\n",
       "       0.57412399, 0.83709273, 0.58760429, 0.86418269, 0.66903073,\n",
       "       0.69400245, 0.90754258, 0.64452214])"
      ]
     },
     "execution_count": 25,
     "metadata": {},
     "output_type": "execute_result"
    }
   ],
   "source": [
    "recall = (tp) / (tp+fn)\n",
    "recall"
   ]
  },
  {
   "cell_type": "markdown",
   "id": "550e303d",
   "metadata": {},
   "source": [
    "### Precision"
   ]
  },
  {
   "cell_type": "code",
   "execution_count": 26,
   "id": "b23c1e4b",
   "metadata": {},
   "outputs": [
    {
     "data": {
      "text/plain": [
       "array([0.5729585 , 0.58695652, 0.83949192, 0.59107807, 0.62962963,\n",
       "       0.63868066, 0.62488307, 0.89799636, 0.7374359 , 0.96917808,\n",
       "       0.7373212 , 0.75813008, 0.91103789])"
      ]
     },
     "execution_count": 26,
     "metadata": {},
     "output_type": "execute_result"
    }
   ],
   "source": [
    "precision = (tp) / (tp+fp)\n",
    "precision"
   ]
  },
  {
   "cell_type": "markdown",
   "id": "306e2bc6",
   "metadata": {},
   "source": [
    "### ROC curve"
   ]
  },
  {
   "cell_type": "code",
   "execution_count": 27,
   "id": "78eaeafb",
   "metadata": {},
   "outputs": [],
   "source": [
    "fpr, tpr, thresholds = roc_curve(true_class, pred_class, pos_label=2)"
   ]
  },
  {
   "cell_type": "code",
   "execution_count": 28,
   "id": "302e2267",
   "metadata": {},
   "outputs": [
    {
     "data": {
      "text/plain": [
       "array([0.        , 0.06394429, 0.16608631, 0.24691358, 0.30843094,\n",
       "       0.41110056, 0.46881925, 0.58024691, 0.65020576, 0.7467553 ,\n",
       "       0.83138124, 0.84604833, 0.92276037, 1.        ])"
      ]
     },
     "execution_count": 28,
     "metadata": {},
     "output_type": "execute_result"
    }
   ],
   "source": [
    "fpr"
   ]
  },
  {
   "cell_type": "code",
   "execution_count": 29,
   "id": "9624ddd9",
   "metadata": {},
   "outputs": [
    {
     "data": {
      "text/plain": [
       "array([0.        , 0.00124844, 0.02122347, 0.02496879, 0.02621723,\n",
       "       0.02871411, 0.03121099, 0.0474407 , 0.05243446, 0.05617978,\n",
       "       0.06242197, 0.97003745, 0.98127341, 1.        ])"
      ]
     },
     "execution_count": 29,
     "metadata": {},
     "output_type": "execute_result"
    }
   ],
   "source": [
    "tpr"
   ]
  },
  {
   "cell_type": "code",
   "execution_count": 30,
   "id": "54a42266",
   "metadata": {},
   "outputs": [
    {
     "data": {
      "text/plain": [
       "array([13, 12, 11, 10,  9,  8,  7,  6,  5,  4,  3,  2,  1,  0],\n",
       "      dtype=int64)"
      ]
     },
     "execution_count": 30,
     "metadata": {},
     "output_type": "execute_result"
    }
   ],
   "source": [
    "thresholds"
   ]
  },
  {
   "cell_type": "code",
   "execution_count": 31,
   "id": "043aae89",
   "metadata": {},
   "outputs": [
    {
     "data": {
      "image/png": "[encoded data removed]",
      "text/plain": [
       "<Figure size 1080x432 with 1 Axes>"
      ]
     },
     "metadata": {},
     "output_type": "display_data"
    }
   ],
   "source": [
    "plt.figure(figsize = (15, 6))\n",
    "plt.plot(tpr,fpr)\n",
    "plt.show()"
   ]
  },
  {
   "cell_type": "markdown",
   "id": "0445f66d",
   "metadata": {},
   "source": [
    "## Testing Results"
   ]
  },
  {
   "cell_type": "code",
   "execution_count": 32,
   "id": "6e7fa5a2",
   "metadata": {},
   "outputs": [
    {
     "name": "stderr",
     "output_type": "stream",
     "text": [
      "100%|██████████| 2569/2569 [00:02<00:00, 1007.04it/s]"
     ]
    },
    {
     "name": "stdout",
     "output_type": "stream",
     "text": [
      "Accuracy:  0.424\n"
     ]
    },
    {
     "name": "stderr",
     "output_type": "stream",
     "text": [
      "\n"
     ]
    }
   ],
   "source": [
    "correct = 0;\n",
    "total = 0;\n",
    "\n",
    "true_class = []\n",
    "pred_class = []\n",
    "\n",
    "with torch.no_grad():\n",
    "    for i in tqdm(range(len(test_X))):\n",
    "        real_class = torch.argmax(test_y[i])\n",
    "        true_class.append(real_class)\n",
    "        net_out = net(test_X[i].view(-1,1,50,50))[0]\n",
    "        predicted_class = torch.argmax(net_out)\n",
    "        pred_class.append(predicted_class)\n",
    "        if predicted_class == real_class:\n",
    "            correct += 1\n",
    "        total += 1\n",
    "        \n",
    "\n",
    "print(\"Accuracy: \", round(correct/total , 3))"
   ]
  },
  {
   "cell_type": "code",
   "execution_count": 33,
   "id": "467a0d02",
   "metadata": {
    "scrolled": false
   },
   "outputs": [
    {
     "data": {
      "text/plain": [
       "array([[[2275,  136],\n",
       "        [  93,   65]],\n",
       "\n",
       "       [[2198,  186],\n",
       "        [ 141,   44]],\n",
       "\n",
       "       [[2293,   77],\n",
       "        [  67,  132]],\n",
       "\n",
       "       [[2198,  161],\n",
       "        [ 145,   65]],\n",
       "\n",
       "       [[2207,  152],\n",
       "        [ 124,   86]],\n",
       "\n",
       "       [[2252,  121],\n",
       "        [ 159,   37]],\n",
       "\n",
       "       [[2153,  222],\n",
       "        [  88,  106]],\n",
       "\n",
       "       [[2314,   45],\n",
       "        [ 161,   49]],\n",
       "\n",
       "       [[2243,  106],\n",
       "        [  58,  162]],\n",
       "\n",
       "       [[2318,   42],\n",
       "        [ 152,   57]],\n",
       "\n",
       "       [[2285,  101],\n",
       "        [ 112,   71]],\n",
       "\n",
       "       [[2273,   91],\n",
       "        [  44,  161]],\n",
       "\n",
       "       [[2339,   40],\n",
       "        [ 136,   54]]], dtype=int64)"
      ]
     },
     "execution_count": 33,
     "metadata": {},
     "output_type": "execute_result"
    }
   ],
   "source": [
    "arr = multilabel_confusion_matrix(true_class, pred_class)\n",
    "arr"
   ]
  },
  {
   "cell_type": "code",
   "execution_count": 34,
   "id": "778b9910",
   "metadata": {},
   "outputs": [],
   "source": [
    "tn = arr[:, 0, 0]\n",
    "tp = arr[:, 1, 1]\n",
    "fn = arr[:, 1, 0]\n",
    "fp = arr[:, 0, 1]"
   ]
  },
  {
   "cell_type": "code",
   "execution_count": 35,
   "id": "752fffd9",
   "metadata": {},
   "outputs": [
    {
     "data": {
      "text/plain": [
       "array([2275, 2198, 2293, 2198, 2207, 2252, 2153, 2314, 2243, 2318, 2285,\n",
       "       2273, 2339], dtype=int64)"
      ]
     },
     "execution_count": 35,
     "metadata": {},
     "output_type": "execute_result"
    }
   ],
   "source": [
    "tn"
   ]
  },
  {
   "cell_type": "code",
   "execution_count": 36,
   "id": "95bd3d57",
   "metadata": {},
   "outputs": [
    {
     "data": {
      "text/plain": [
       "array([ 65,  44, 132,  65,  86,  37, 106,  49, 162,  57,  71, 161,  54],\n",
       "      dtype=int64)"
      ]
     },
     "execution_count": 36,
     "metadata": {},
     "output_type": "execute_result"
    }
   ],
   "source": [
    "tp"
   ]
  },
  {
   "cell_type": "code",
   "execution_count": 37,
   "id": "b3a32155",
   "metadata": {
    "scrolled": true
   },
   "outputs": [
    {
     "data": {
      "text/plain": [
       "array([136, 186,  77, 161, 152, 121, 222,  45, 106,  42, 101,  91,  40],\n",
       "      dtype=int64)"
      ]
     },
     "execution_count": 37,
     "metadata": {},
     "output_type": "execute_result"
    }
   ],
   "source": [
    "fp"
   ]
  },
  {
   "cell_type": "code",
   "execution_count": 38,
   "id": "25482cf1",
   "metadata": {},
   "outputs": [
    {
     "data": {
      "text/plain": [
       "array([ 93, 141,  67, 145, 124, 159,  88, 161,  58, 152, 112,  44, 136],\n",
       "      dtype=int64)"
      ]
     },
     "execution_count": 38,
     "metadata": {},
     "output_type": "execute_result"
    }
   ],
   "source": [
    "fn"
   ]
  },
  {
   "cell_type": "code",
   "execution_count": 39,
   "id": "8033a37c",
   "metadata": {
    "scrolled": true
   },
   "outputs": [
    {
     "data": {
      "text/plain": [
       "2275"
      ]
     },
     "execution_count": 39,
     "metadata": {},
     "output_type": "execute_result"
    }
   ],
   "source": [
    "arr[0][0][0]"
   ]
  },
  {
   "cell_type": "markdown",
   "id": "16d5864e",
   "metadata": {},
   "source": [
    "### Accuracy Score"
   ]
  },
  {
   "cell_type": "code",
   "execution_count": 40,
   "id": "898ac1dc",
   "metadata": {
    "scrolled": false
   },
   "outputs": [
    {
     "data": {
      "text/plain": [
       "array([0.91086026, 0.87271312, 0.94394706, 0.8808875 , 0.8925652 ,\n",
       "       0.89100817, 0.87933048, 0.91981316, 0.93616193, 0.92448424,\n",
       "       0.91708836, 0.94745037, 0.93149085])"
      ]
     },
     "execution_count": 40,
     "metadata": {},
     "output_type": "execute_result"
    }
   ],
   "source": [
    "acc = (tp+tn)/(tp+tn+fp+fn)\n",
    "acc"
   ]
  },
  {
   "cell_type": "markdown",
   "id": "2cf3a8c0",
   "metadata": {},
   "source": [
    "### Recall"
   ]
  },
  {
   "cell_type": "code",
   "execution_count": 41,
   "id": "6db22c94",
   "metadata": {},
   "outputs": [
    {
     "data": {
      "text/plain": [
       "array([0.41139241, 0.23783784, 0.66331658, 0.30952381, 0.40952381,\n",
       "       0.18877551, 0.54639175, 0.23333333, 0.73636364, 0.27272727,\n",
       "       0.38797814, 0.78536585, 0.28421053])"
      ]
     },
     "execution_count": 41,
     "metadata": {},
     "output_type": "execute_result"
    }
   ],
   "source": [
    "recall = (tp) / (tp+fn)\n",
    "recall"
   ]
  },
  {
   "cell_type": "markdown",
   "id": "55a37988",
   "metadata": {},
   "source": [
    "### Precision"
   ]
  },
  {
   "cell_type": "code",
   "execution_count": 42,
   "id": "402c6edf",
   "metadata": {},
   "outputs": [
    {
     "data": {
      "text/plain": [
       "array([0.32338308, 0.19130435, 0.63157895, 0.28761062, 0.36134454,\n",
       "       0.23417722, 0.32317073, 0.5212766 , 0.60447761, 0.57575758,\n",
       "       0.4127907 , 0.63888889, 0.57446809])"
      ]
     },
     "execution_count": 42,
     "metadata": {},
     "output_type": "execute_result"
    }
   ],
   "source": [
    "precision = (tp) / (tp+fp)\n",
    "precision"
   ]
  },
  {
   "cell_type": "markdown",
   "id": "f5d13a5c",
   "metadata": {},
   "source": [
    "### ROC curves"
   ]
  },
  {
   "cell_type": "code",
   "execution_count": 43,
   "id": "19a558e3",
   "metadata": {},
   "outputs": [],
   "source": [
    "fpr, tpr, thresholds = roc_curve(true_class, pred_class, pos_label=2)"
   ]
  },
  {
   "cell_type": "code",
   "execution_count": 44,
   "id": "8dadd9af",
   "metadata": {},
   "outputs": [
    {
     "data": {
      "text/plain": [
       "array([0.        , 0.03881857, 0.14135021, 0.21308017, 0.25274262,\n",
       "       0.36582278, 0.40337553, 0.53459916, 0.59915612, 0.69915612,\n",
       "       0.79198312, 0.82447257, 0.91940928, 1.        ])"
      ]
     },
     "execution_count": 44,
     "metadata": {},
     "output_type": "execute_result"
    }
   ],
   "source": [
    "fpr"
   ]
  },
  {
   "cell_type": "code",
   "execution_count": 45,
   "id": "401a651c",
   "metadata": {},
   "outputs": [
    {
     "data": {
      "text/plain": [
       "array([0.        , 0.01005025, 0.05527638, 0.06532663, 0.09045226,\n",
       "       0.09045226, 0.11557789, 0.20100503, 0.22613065, 0.23115578,\n",
       "       0.26130653, 0.92462312, 0.94974874, 1.        ])"
      ]
     },
     "execution_count": 45,
     "metadata": {},
     "output_type": "execute_result"
    }
   ],
   "source": [
    "tpr"
   ]
  },
  {
   "cell_type": "code",
   "execution_count": 46,
   "id": "54608a12",
   "metadata": {},
   "outputs": [
    {
     "data": {
      "text/plain": [
       "array([13, 12, 11, 10,  9,  8,  7,  6,  5,  4,  3,  2,  1,  0],\n",
       "      dtype=int64)"
      ]
     },
     "execution_count": 46,
     "metadata": {},
     "output_type": "execute_result"
    }
   ],
   "source": [
    "thresholds"
   ]
  },
  {
   "cell_type": "code",
   "execution_count": 47,
   "id": "e55a3897",
   "metadata": {
    "scrolled": false
   },
   "outputs": [
    {
     "data": {
      "image/png": "[encoded data removed]",
      "text/plain": [
       "<Figure size 1080x432 with 1 Axes>"
      ]
     },
     "metadata": {},
     "output_type": "display_data"
    }
   ],
   "source": [
    "plt.figure(figsize = (15, 6))\n",
    "plt.plot(tpr,fpr)\n",
    "plt.show()"
   ]
  }
 ],
 "metadata": {
  "kernelspec": {
   "display_name": "Python 3 (ipykernel)",
   "language": "python",
   "name": "python3"
  },
  "language_info": {
   "codemirror_mode": {
    "name": "ipython",
    "version": 3
   },
   "file_extension": ".py",
   "mimetype": "text/x-python",
   "name": "python",
   "nbconvert_exporter": "python",
   "pygments_lexer": "ipython3",
   "version": "3.9.7"
  }
 },
 "nbformat": 4,
 "nbformat_minor": 5
}
